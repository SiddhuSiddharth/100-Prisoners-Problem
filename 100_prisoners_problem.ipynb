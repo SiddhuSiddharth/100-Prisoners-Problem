{
  "cells": [
    {
      "cell_type": "markdown",
      "id": "abedca43",
      "metadata": {
        "papermill": {
          "duration": 0.010931,
          "end_time": "2022-07-28T18:57:28.599742",
          "exception": false,
          "start_time": "2022-07-28T18:57:28.588811",
          "status": "completed"
        },
        "tags": [],
        "id": "abedca43"
      },
      "source": [
        "# Question"
      ]
    },
    {
      "cell_type": "markdown",
      "source": [
        "In a prison, a warden strikes a deal with the prisoners with the following conditions:-\n",
        "1. The prisoners are numbered 1 to 100\n",
        "2. There are 100 slips each which the prisoners have to find out.\n",
        "3. Every prisoner goes inside a room containing all 100 slips and has 50 chances to pick the slip with their number on it.\n",
        "4. If they find their number they are good to go.\n",
        "5. If even one prisoner doesn 't find their number all of them get executed.\n",
        "\n",
        "The prisoners are allowed to communicate with each other to find the best strategy in order to get them released."
      ],
      "metadata": {
        "id": "i2gjGV7s8p6A"
      },
      "id": "i2gjGV7s8p6A"
    },
    {
      "cell_type": "code",
      "execution_count": 23,
      "id": "a8418621",
      "metadata": {
        "execution": {
          "iopub.execute_input": "2022-07-28T18:57:28.620431Z",
          "iopub.status.busy": "2022-07-28T18:57:28.619991Z",
          "iopub.status.idle": "2022-07-28T18:57:30.248447Z",
          "shell.execute_reply": "2022-07-28T18:57:30.247240Z"
        },
        "papermill": {
          "duration": 1.642278,
          "end_time": "2022-07-28T18:57:30.251334",
          "exception": false,
          "start_time": "2022-07-28T18:57:28.609056",
          "status": "completed"
        },
        "tags": [],
        "id": "a8418621"
      },
      "outputs": [],
      "source": [
        "import numpy as np\n",
        "import pandas as pd\n",
        "import matplotlib.pyplot as plt\n",
        "import networkx as nx\n",
        "plt.style.use(\"ggplot\")\n",
        "!pip install pyvis -q\n",
        "from pyvis.network import Network\n",
        "import seaborn\n",
        "color_pal = seaborn.color_palette(n_colors=50)"
      ]
    },
    {
      "cell_type": "code",
      "source": [
        "def randomize_slips():\n",
        "    slips = [i for i in range(100)]\n",
        "    np.random.shuffle(slips)\n",
        "    prisoners = {}\n",
        "    for i, j in enumerate(slips):\n",
        "        prisoners[i] = j\n",
        "    return prisoners, slips"
      ],
      "metadata": {
        "id": "Eo2Ny2rh5r9i"
      },
      "id": "Eo2Ny2rh5r9i",
      "execution_count": 24,
      "outputs": []
    },
    {
      "cell_type": "markdown",
      "id": "4bba070c",
      "metadata": {
        "papermill": {
          "duration": 0.008962,
          "end_time": "2022-07-28T18:57:30.299059",
          "exception": false,
          "start_time": "2022-07-28T18:57:30.290097",
          "status": "completed"
        },
        "tags": [],
        "id": "4bba070c"
      },
      "source": [
        "# Brute Force"
      ]
    },
    {
      "cell_type": "markdown",
      "source": [
        "Usually we let each prisoner choose 50 random slips."
      ],
      "metadata": {
        "id": "TXmwhgmls-rW"
      },
      "id": "TXmwhgmls-rW"
    },
    {
      "cell_type": "code",
      "execution_count": 25,
      "id": "9960f84d",
      "metadata": {
        "execution": {
          "iopub.execute_input": "2022-07-28T18:57:30.319501Z",
          "iopub.status.busy": "2022-07-28T18:57:30.318545Z",
          "iopub.status.idle": "2022-07-28T18:57:30.324514Z",
          "shell.execute_reply": "2022-07-28T18:57:30.323745Z"
        },
        "papermill": {
          "duration": 0.018612,
          "end_time": "2022-07-28T18:57:30.326796",
          "exception": false,
          "start_time": "2022-07-28T18:57:30.308184",
          "status": "completed"
        },
        "tags": [],
        "id": "9960f84d"
      },
      "outputs": [],
      "source": [
        "def prisoner_randomly_picks(prisoner_no, slips, prisoners):\n",
        "    slips_chosen = np.random.choice(slips, size=50, replace=False)\n",
        "    for i in slips_chosen:\n",
        "        if prisoners[i] == prisoner_no:\n",
        "            return True\n",
        "    return False"
      ]
    },
    {
      "cell_type": "code",
      "source": [
        "def brute_force(Test_Runs):\n",
        "    results = {}\n",
        "    prisoners, slips = randomize_slips()\n",
        "    for i in range(Test_Runs):\n",
        "        n_correct = 0\n",
        "        for j in range(100):\n",
        "            correct = prisoner_randomly_picks(j, slips, prisoners)\n",
        "            if correct:\n",
        "                n_correct += 1\n",
        "        results[i] = n_correct\n",
        "    return results"
      ],
      "metadata": {
        "id": "mzRjUzro65xa"
      },
      "id": "mzRjUzro65xa",
      "execution_count": 26,
      "outputs": []
    },
    {
      "cell_type": "markdown",
      "source": [
        "We will try brute force approach with 100 test runs initially and store in the results dictionary. The results are the no. of prisoners who managed to find their slip numbers."
      ],
      "metadata": {
        "id": "1oTGfnp6_MET"
      },
      "id": "1oTGfnp6_MET"
    },
    {
      "cell_type": "code",
      "source": [
        "results = brute_force(1000)"
      ],
      "metadata": {
        "id": "T-b_FZ7T_Yj8"
      },
      "id": "T-b_FZ7T_Yj8",
      "execution_count": 27,
      "outputs": []
    },
    {
      "cell_type": "markdown",
      "source": [
        "The probability of 1 prisoner picking their slip is $\\frac{1}{2}$. So the probability that all prisoners pick their number is $(\\frac{1}{2})^{100}$ (or) 7.88860905221e-31 (or) 0.0000000000000000000000000000007888"
      ],
      "metadata": {
        "id": "Yd7gkHa5uk9N"
      },
      "id": "Yd7gkHa5uk9N"
    },
    {
      "cell_type": "code",
      "execution_count": 28,
      "id": "ca75b13e",
      "metadata": {
        "execution": {
          "iopub.execute_input": "2022-07-28T18:58:01.067376Z",
          "iopub.status.busy": "2022-07-28T18:58:01.066959Z",
          "iopub.status.idle": "2022-07-28T18:58:01.080020Z",
          "shell.execute_reply": "2022-07-28T18:58:01.078717Z"
        },
        "papermill": {
          "duration": 0.045673,
          "end_time": "2022-07-28T18:58:01.082311",
          "exception": false,
          "start_time": "2022-07-28T18:58:01.036638",
          "status": "completed"
        },
        "tags": [],
        "id": "ca75b13e"
      },
      "outputs": [],
      "source": [
        "results_random = pd.DataFrame.from_dict(results, orient=\"index\", columns=[\"no_correct\"])"
      ]
    },
    {
      "cell_type": "code",
      "execution_count": 29,
      "id": "dfa80bef",
      "metadata": {
        "execution": {
          "iopub.execute_input": "2022-07-28T18:58:01.141864Z",
          "iopub.status.busy": "2022-07-28T18:58:01.141504Z",
          "iopub.status.idle": "2022-07-28T18:58:01.651704Z",
          "shell.execute_reply": "2022-07-28T18:58:01.650486Z"
        },
        "papermill": {
          "duration": 0.542808,
          "end_time": "2022-07-28T18:58:01.654349",
          "exception": false,
          "start_time": "2022-07-28T18:58:01.111541",
          "status": "completed"
        },
        "tags": [],
        "colab": {
          "base_uri": "https://localhost:8080/",
          "height": 0
        },
        "id": "dfa80bef",
        "outputId": "b00eed33-a1b5-4eeb-d3ae-112f7ec4131d"
      },
      "outputs": [
        {
          "output_type": "display_data",
          "data": {
            "text/plain": [
              "<Figure size 1368x720 with 1 Axes>"
            ],
            "image/png": "[encoded data removed]"
          },
          "metadata": {}
        }
      ],
      "source": [
        "results_agg = pd.DataFrame(index=range(1, 101))\n",
        "results_agg[\"counts\"] = results_agg.index.map(\n",
        "    results_random[\"no_correct\"].value_counts().to_dict()\n",
        ").fillna(0)\n",
        "\n",
        "ax = results_agg.plot(\n",
        "    kind=\"bar\",\n",
        "    figsize=(19, 10),\n",
        "    color=\"orange\",\n",
        "    edgecolor=\"black\",\n",
        "    width=1,\n",
        "    title=\"No.of successes distribution (may vary based on data)\"\n",
        ")\n",
        "\n",
        "ax.set_xticklabels(ax.get_xticks(), rotation=0, size=8)\n",
        "plt.show()"
      ]
    },
    {
      "cell_type": "markdown",
      "id": "14d143fa",
      "metadata": {
        "papermill": {
          "duration": 0.029447,
          "end_time": "2022-07-28T18:58:01.852443",
          "exception": false,
          "start_time": "2022-07-28T18:58:01.822996",
          "status": "completed"
        },
        "tags": [],
        "id": "14d143fa"
      },
      "source": [
        "# Proposed Strategy"
      ]
    },
    {
      "cell_type": "markdown",
      "source": [
        "Imagine all the slips are indivually put in some kind of box (it would be difficult to manage if all slips were bundled together). If each box has slip numbers randomly distributed, then proposed strategy says that,\n",
        "\n",
        "* Prisoner will pick the box with their number on it\n",
        "* Whatever slip number is in that box they would move to the box no containing that slip no\n",
        "* This process will continue until all 50 turns are exhausted or when the box with the prisoner 's number is found."
      ],
      "metadata": {
        "id": "eS8lR8-z3iKg"
      },
      "id": "eS8lR8-z3iKg"
    },
    {
      "cell_type": "code",
      "execution_count": 30,
      "id": "9e176175",
      "metadata": {
        "execution": {
          "iopub.execute_input": "2022-07-28T18:58:01.913425Z",
          "iopub.status.busy": "2022-07-28T18:58:01.913016Z",
          "iopub.status.idle": "2022-07-28T18:58:01.918392Z",
          "shell.execute_reply": "2022-07-28T18:58:01.917573Z"
        },
        "papermill": {
          "duration": 0.038524,
          "end_time": "2022-07-28T18:58:01.920509",
          "exception": false,
          "start_time": "2022-07-28T18:58:01.881985",
          "status": "completed"
        },
        "tags": [],
        "id": "9e176175"
      },
      "outputs": [],
      "source": [
        "def prisoner_loop_picks(prisoner_no, prisoners):\n",
        "    next_box = prisoner_no\n",
        "    for i in range(50):\n",
        "        if prisoners[next_box] == prisoner_no:\n",
        "            return True\n",
        "        next_box = prisoners[next_box]\n",
        "    return False\n",
        "\n",
        "def oneRun_loop_strat(prisoners, slips):\n",
        "    n_correct = 0\n",
        "    for i in range(100):\n",
        "        correct = prisoner_loop_picks(i, prisoners)\n",
        "        if correct:\n",
        "            n_correct += 1\n",
        "    return n_correct"
      ]
    },
    {
      "cell_type": "markdown",
      "source": [
        "Lets run this startegy also for 1000 runs and check the results"
      ],
      "metadata": {
        "id": "ns46WE7a-DOk"
      },
      "id": "ns46WE7a-DOk"
    },
    {
      "cell_type": "code",
      "execution_count": 31,
      "id": "3be80405",
      "metadata": {
        "execution": {
          "iopub.execute_input": "2022-07-28T18:58:02.051606Z",
          "iopub.status.busy": "2022-07-28T18:58:02.050915Z",
          "iopub.status.idle": "2022-07-28T18:58:05.821470Z",
          "shell.execute_reply": "2022-07-28T18:58:05.820289Z"
        },
        "papermill": {
          "duration": 3.80534,
          "end_time": "2022-07-28T18:58:05.824930",
          "exception": false,
          "start_time": "2022-07-28T18:58:02.019590",
          "status": "completed"
        },
        "tags": [],
        "id": "3be80405"
      },
      "outputs": [],
      "source": [
        "def loop_strat(Test_Runs):\n",
        "    results = {}\n",
        "    for i in range(Test_Runs):\n",
        "        p, s = randomize_slips()\n",
        "        results[i] = oneRun_loop_strat(p, s)\n",
        "    return results\n",
        "N_results = loop_strat(1000)\n",
        "results_loop = pd.DataFrame.from_dict(N_results, orient=\"index\", columns=[\"no_correct\"])"
      ]
    },
    {
      "cell_type": "code",
      "source": [
        "for i in set(list(N_results.values())):\n",
        "    print(f'{i}: {list(N_results.values()).count(i)}')"
      ],
      "metadata": {
        "colab": {
          "base_uri": "https://localhost:8080/"
        },
        "id": "x4YNX-ett1FM",
        "outputId": "275f5488-6eec-45f3-d60a-9d3852b8e468"
      },
      "id": "x4YNX-ett1FM",
      "execution_count": 32,
      "outputs": [
        {
          "output_type": "stream",
          "name": "stdout",
          "text": [
            "0: 13\n",
            "1: 10\n",
            "2: 8\n",
            "3: 12\n",
            "4: 8\n",
            "5: 11\n",
            "6: 7\n",
            "7: 7\n",
            "8: 12\n",
            "9: 9\n",
            "10: 13\n",
            "11: 7\n",
            "12: 10\n",
            "13: 13\n",
            "14: 9\n",
            "15: 14\n",
            "16: 8\n",
            "17: 15\n",
            "18: 9\n",
            "19: 20\n",
            "20: 17\n",
            "21: 19\n",
            "22: 24\n",
            "23: 12\n",
            "24: 16\n",
            "25: 13\n",
            "26: 18\n",
            "27: 9\n",
            "28: 13\n",
            "29: 14\n",
            "30: 5\n",
            "31: 13\n",
            "32: 12\n",
            "33: 18\n",
            "34: 21\n",
            "35: 15\n",
            "36: 13\n",
            "37: 15\n",
            "38: 18\n",
            "39: 16\n",
            "40: 14\n",
            "41: 22\n",
            "42: 16\n",
            "43: 18\n",
            "44: 19\n",
            "45: 17\n",
            "46: 22\n",
            "47: 19\n",
            "48: 18\n",
            "49: 23\n",
            "100: 296\n"
          ]
        }
      ]
    },
    {
      "cell_type": "code",
      "execution_count": 33,
      "id": "4aaf58c6",
      "metadata": {
        "execution": {
          "iopub.execute_input": "2022-07-28T18:58:05.894545Z",
          "iopub.status.busy": "2022-07-28T18:58:05.894142Z",
          "iopub.status.idle": "2022-07-28T18:58:06.339572Z",
          "shell.execute_reply": "2022-07-28T18:58:06.338293Z"
        },
        "papermill": {
          "duration": 0.483205,
          "end_time": "2022-07-28T18:58:06.342097",
          "exception": false,
          "start_time": "2022-07-28T18:58:05.858892",
          "status": "completed"
        },
        "tags": [],
        "colab": {
          "base_uri": "https://localhost:8080/",
          "height": 0
        },
        "id": "4aaf58c6",
        "outputId": "59c2ddef-e6fe-46b4-fee9-729a70e1b55f"
      },
      "outputs": [
        {
          "output_type": "display_data",
          "data": {
            "text/plain": [
              "<Figure size 1368x720 with 1 Axes>"
            ],
            "image/png": "[encoded data removed]"
          },
          "metadata": {}
        }
      ],
      "source": [
        "results_agg = pd.DataFrame(index=range(1, 101))\n",
        "results_agg[\"counts\"] = results_agg.index.map(\n",
        "    results_loop[\"no_correct\"].value_counts().to_dict()\n",
        ").fillna(0)\n",
        "\n",
        "ax = results_agg.plot(\n",
        "    kind=\"bar\",\n",
        "    figsize=(19, 10),\n",
        "    color=\"orange\",\n",
        "    edgecolor=\"black\",\n",
        "    width=1,\n",
        "    title=\"No.of successes distribution (may vary based on data)\"\n",
        ")\n",
        "\n",
        "ax.set_xticklabels(ax.get_xticks(), rotation=0, size=8)\n",
        "plt.show()"
      ]
    },
    {
      "cell_type": "markdown",
      "id": "0cbf5a36",
      "metadata": {
        "papermill": {
          "duration": 0.031995,
          "end_time": "2022-07-28T18:58:06.482796",
          "exception": false,
          "start_time": "2022-07-28T18:58:06.450801",
          "status": "completed"
        },
        "tags": [],
        "id": "0cbf5a36"
      },
      "source": [
        "# Visualzing a scenario"
      ]
    },
    {
      "cell_type": "code",
      "source": [
        "def create_graph(boxes):\n",
        "    G = nx.DiGraph()\n",
        "    G.add_nodes_from([i for i in range(100)])\n",
        "    edges = [(x, y) for x, y in boxes.items()]\n",
        "    G.add_edges_from(edges, weight=1)\n",
        "    node_loop = {}\n",
        "    loops = nx.simple_cycles(G)\n",
        "\n",
        "    for loop, nodes in enumerate(loops):\n",
        "        for node in nodes:\n",
        "            node_loop[node] = loop\n",
        "    loop_df = pd.DataFrame.from_dict(node_loop, orient=\"index\", columns=[\"loop\"])\n",
        "\n",
        "    loop_df[\"color\"] = loop_df[\"loop\"].apply(lambda x: color_pal[x])\n",
        "    loop_df = loop_df.sort_index()\n",
        "    # Add colors to node\n",
        "    for node, loop in loop_df[\"loop\"].to_dict().items():\n",
        "        G.nodes[node][\"group\"] = str(loop)\n",
        "        G.nodes[node][\"loop_key\"] = loop\n",
        "        G.nodes[node][\"label\"] = str(node)\n",
        "    return G, loop_df"
      ],
      "metadata": {
        "id": "swfXv3yQ_-Q1"
      },
      "id": "swfXv3yQ_-Q1",
      "execution_count": 34,
      "outputs": []
    },
    {
      "cell_type": "code",
      "execution_count": 42,
      "id": "f191fa8a",
      "metadata": {
        "execution": {
          "iopub.execute_input": "2022-07-28T18:58:27.804784Z",
          "iopub.status.busy": "2022-07-28T18:58:27.804359Z",
          "iopub.status.idle": "2022-07-28T18:58:27.852366Z",
          "shell.execute_reply": "2022-07-28T18:58:27.850006Z"
        },
        "papermill": {
          "duration": 0.089446,
          "end_time": "2022-07-28T18:58:27.855307",
          "exception": false,
          "start_time": "2022-07-28T18:58:27.765861",
          "status": "completed"
        },
        "tags": [],
        "id": "f191fa8a",
        "colab": {
          "base_uri": "https://localhost:8080/",
          "height": 106
        },
        "outputId": "043a9395-1d46-4b40-ce66-7666ff20f87d"
      },
      "outputs": [
        {
          "output_type": "stream",
          "name": "stdout",
          "text": [
            "Longest Loop 81\n",
            "Random: [36, 37, 37, 37, 37, 37, 38, 38, 38, 38, 38, 38, 38, 38, 39, 39, 39, 39, 39, 40, 40, 40, 40, 40, 40, 40, 40, 40, 40, 40, 41, 41, 41, 41, 41, 41, 41, 41, 41, 41, 41, 41, 41, 41, 42, 42, 42, 42, 42, 42, 42, 42, 42, 42, 42, 42, 42, 42, 42, 42, 43, 43, 43, 43, 43, 43, 43, 43, 43, 43, 43, 43, 43, 43, 43, 43, 43, 43, 43, 43, 43, 43, 43, 43, 43, 43, 43, 43, 43, 43, 43, 44, 44, 44, 44, 44, 44, 44, 44, 44, 44, 44, 44, 44, 44, 44, 44, 44, 44, 44, 44, 44, 44, 44, 44, 44, 44, 44, 44, 44, 44, 44, 44, 44, 44, 44, 44, 45, 45, 45, 45, 45, 45, 45, 45, 45, 45, 45, 45, 45, 45, 45, 45, 45, 45, 45, 45, 45, 45, 45, 45, 45, 45, 45, 45, 45, 45, 45, 45, 45, 45, 45, 45, 45, 45, 45, 45, 45, 45, 45, 45, 45, 45, 45, 45, 45, 45, 46, 46, 46, 46, 46, 46, 46, 46, 46, 46, 46, 46, 46, 46, 46, 46, 46, 46, 46, 46, 46, 46, 46, 46, 46, 46, 46, 46, 46, 46, 46, 46, 46, 46, 46, 46, 46, 46, 46, 46, 46, 46, 46, 46, 46, 46, 46, 46, 46, 46, 46, 46, 46, 46, 46, 46, 46, 46, 46, 46, 46, 46, 46, 46, 46, 47, 47, 47, 47, 47, 47, 47, 47, 47, 47, 47, 47, 47, 47, 47, 47, 47, 47, 47, 47, 47, 47, 47, 47, 47, 47, 47, 47, 47, 47, 47, 47, 47, 47, 47, 47, 47, 47, 47, 47, 47, 47, 47, 47, 47, 47, 47, 47, 47, 47, 47, 47, 47, 47, 47, 47, 47, 47, 47, 47, 47, 47, 47, 47, 48, 48, 48, 48, 48, 48, 48, 48, 48, 48, 48, 48, 48, 48, 48, 48, 48, 48, 48, 48, 48, 48, 48, 48, 48, 48, 48, 48, 48, 48, 48, 48, 48, 48, 48, 48, 48, 48, 48, 48, 48, 48, 48, 48, 48, 48, 48, 48, 48, 48, 48, 48, 48, 48, 48, 48, 48, 48, 48, 48, 48, 48, 48, 48, 48, 48, 48, 48, 48, 48, 48, 48, 48, 48, 48, 48, 48, 48, 48, 48, 48, 48, 49, 49, 49, 49, 49, 49, 49, 49, 49, 49, 49, 49, 49, 49, 49, 49, 49, 49, 49, 49, 49, 49, 49, 49, 49, 49, 49, 49, 49, 49, 49, 49, 49, 49, 49, 49, 49, 49, 49, 49, 49, 49, 49, 49, 49, 49, 49, 49, 49, 49, 49, 49, 49, 49, 49, 49, 49, 49, 49, 49, 49, 49, 49, 49, 49, 49, 49, 49, 49, 49, 49, 49, 49, 49, 49, 49, 49, 49, 49, 49, 49, 49, 49, 49, 50, 50, 50, 50, 50, 50, 50, 50, 50, 50, 50, 50, 50, 50, 50, 50, 50, 50, 50, 50, 50, 50, 50, 50, 50, 50, 50, 50, 50, 50, 50, 50, 50, 50, 50, 50, 50, 50, 50, 50, 50, 50, 50, 50, 50, 50, 50, 50, 50, 50, 50, 50, 50, 50, 50, 50, 50, 50, 50, 50, 50, 50, 50, 50, 50, 50, 50, 50, 50, 50, 50, 50, 50, 50, 50, 50, 50, 50, 50, 50, 50, 50, 50, 50, 50, 50, 50, 50, 50, 50, 50, 50, 50, 50, 50, 51, 51, 51, 51, 51, 51, 51, 51, 51, 51, 51, 51, 51, 51, 51, 51, 51, 51, 51, 51, 51, 51, 51, 51, 51, 51, 51, 51, 51, 51, 51, 51, 51, 51, 51, 51, 51, 51, 51, 51, 51, 51, 51, 51, 51, 51, 51, 51, 51, 51, 51, 51, 51, 51, 51, 51, 51, 51, 51, 51, 51, 51, 51, 51, 51, 51, 51, 51, 51, 51, 51, 51, 51, 52, 52, 52, 52, 52, 52, 52, 52, 52, 52, 52, 52, 52, 52, 52, 52, 52, 52, 52, 52, 52, 52, 52, 52, 52, 52, 52, 52, 52, 52, 52, 52, 52, 52, 52, 52, 52, 52, 52, 52, 52, 52, 52, 52, 52, 52, 52, 52, 52, 52, 52, 52, 52, 52, 52, 52, 52, 52, 52, 52, 52, 52, 52, 52, 53, 53, 53, 53, 53, 53, 53, 53, 53, 53, 53, 53, 53, 53, 53, 53, 53, 53, 53, 53, 53, 53, 53, 53, 53, 53, 53, 53, 53, 53, 53, 53, 53, 53, 53, 53, 53, 53, 53, 53, 53, 53, 53, 53, 53, 53, 53, 53, 53, 53, 53, 53, 53, 53, 53, 53, 53, 53, 53, 53, 53, 53, 53, 53, 53, 53, 53, 53, 54, 54, 54, 54, 54, 54, 54, 54, 54, 54, 54, 54, 54, 54, 54, 54, 54, 54, 54, 54, 54, 54, 54, 54, 54, 54, 54, 54, 54, 54, 54, 54, 54, 54, 54, 54, 54, 54, 54, 54, 54, 54, 54, 54, 54, 54, 54, 54, 54, 54, 54, 54, 54, 54, 54, 54, 54, 54, 54, 54, 54, 54, 54, 55, 55, 55, 55, 55, 55, 55, 55, 55, 55, 55, 55, 55, 55, 55, 55, 55, 55, 55, 55, 55, 55, 55, 55, 55, 55, 55, 55, 55, 55, 55, 55, 55, 55, 55, 55, 55, 55, 55, 55, 55, 55, 55, 55, 55, 55, 55, 55, 56, 56, 56, 56, 56, 56, 56, 56, 56, 56, 56, 56, 56, 56, 56, 56, 56, 56, 56, 56, 56, 56, 56, 56, 56, 56, 56, 56, 56, 56, 56, 56, 56, 56, 57, 57, 57, 57, 57, 57, 57, 57, 57, 57, 57, 57, 57, 57, 57, 57, 57, 57, 57, 57, 57, 57, 57, 57, 57, 58, 58, 58, 58, 58, 58, 58, 58, 58, 58, 58, 58, 58, 58, 58, 58, 58, 58, 58, 58, 58, 59, 59, 59, 59, 59, 59, 59, 59, 59, 59, 59, 59, 59, 60, 60, 60, 60, 60, 60, 60, 60, 60, 61, 61, 61, 61, 61, 61, 61, 62, 62, 62, 63, 63, 63, 64, 64]\n",
            "Loop: [0, 0, 0, 0, 0, 0, 0, 0, 0, 1, 1, 1, 1, 1, 1, 1, 1, 1, 1, 1, 1, 1, 2, 2, 2, 2, 2, 2, 3, 3, 3, 3, 3, 3, 3, 3, 3, 4, 4, 4, 4, 4, 4, 4, 4, 4, 4, 4, 4, 4, 4, 5, 5, 5, 5, 5, 5, 5, 5, 5, 5, 5, 5, 5, 5, 5, 5, 5, 6, 6, 6, 6, 6, 6, 6, 6, 6, 6, 6, 6, 6, 6, 7, 7, 7, 7, 7, 7, 7, 7, 7, 7, 7, 7, 8, 8, 8, 8, 8, 8, 8, 8, 8, 9, 9, 9, 9, 9, 9, 9, 9, 9, 9, 9, 9, 10, 10, 10, 10, 10, 10, 10, 10, 10, 10, 10, 11, 11, 11, 11, 11, 11, 11, 11, 11, 11, 12, 12, 12, 12, 12, 12, 12, 12, 12, 13, 13, 13, 13, 13, 13, 13, 13, 13, 13, 13, 13, 13, 13, 13, 14, 14, 14, 14, 14, 14, 14, 14, 14, 14, 14, 14, 15, 15, 15, 15, 15, 15, 15, 15, 15, 15, 15, 15, 15, 15, 15, 16, 16, 16, 16, 16, 16, 16, 16, 16, 16, 16, 17, 17, 17, 17, 17, 17, 17, 17, 17, 17, 17, 17, 18, 18, 18, 18, 18, 18, 18, 18, 18, 18, 18, 18, 18, 18, 18, 18, 18, 19, 19, 19, 19, 19, 19, 19, 19, 19, 19, 19, 19, 20, 20, 20, 20, 20, 20, 20, 20, 20, 20, 20, 20, 20, 20, 21, 21, 21, 21, 21, 21, 21, 21, 21, 21, 21, 21, 21, 21, 21, 22, 22, 22, 22, 22, 22, 22, 22, 22, 22, 23, 23, 23, 23, 23, 23, 23, 23, 23, 23, 23, 23, 24, 24, 24, 24, 24, 24, 24, 24, 24, 24, 24, 25, 25, 25, 25, 25, 25, 25, 25, 26, 26, 26, 26, 26, 26, 26, 26, 26, 26, 26, 26, 26, 27, 27, 27, 27, 27, 27, 27, 27, 28, 28, 28, 28, 28, 28, 28, 28, 28, 28, 28, 28, 28, 28, 28, 28, 28, 29, 29, 29, 29, 29, 29, 29, 29, 29, 29, 29, 29, 30, 30, 30, 30, 30, 30, 30, 30, 30, 30, 30, 30, 30, 30, 30, 30, 30, 31, 31, 31, 31, 31, 31, 31, 31, 31, 31, 31, 31, 31, 31, 31, 31, 31, 31, 31, 32, 32, 32, 32, 32, 32, 32, 32, 32, 32, 32, 32, 32, 32, 32, 33, 33, 33, 33, 33, 33, 33, 33, 33, 33, 33, 34, 34, 34, 34, 34, 34, 34, 34, 34, 34, 34, 34, 34, 34, 34, 34, 34, 34, 34, 34, 34, 35, 35, 35, 35, 35, 35, 35, 35, 35, 35, 35, 35, 35, 35, 35, 35, 35, 35, 35, 35, 35, 35, 35, 35, 36, 36, 36, 36, 36, 36, 36, 36, 36, 36, 36, 36, 36, 36, 37, 37, 37, 37, 37, 37, 37, 37, 37, 37, 37, 37, 37, 37, 37, 37, 38, 38, 38, 38, 38, 38, 38, 38, 38, 38, 38, 38, 38, 38, 39, 39, 39, 39, 39, 39, 39, 39, 39, 39, 39, 39, 39, 39, 40, 40, 40, 40, 40, 40, 40, 40, 40, 40, 40, 40, 41, 41, 41, 41, 41, 41, 41, 41, 41, 41, 41, 41, 41, 41, 41, 41, 41, 41, 41, 41, 41, 41, 42, 42, 42, 42, 42, 42, 42, 42, 42, 42, 42, 42, 42, 42, 42, 42, 43, 43, 43, 43, 43, 43, 43, 43, 43, 43, 43, 43, 43, 43, 44, 44, 44, 44, 44, 44, 44, 44, 44, 44, 44, 45, 45, 45, 45, 45, 45, 45, 45, 45, 45, 45, 45, 45, 45, 45, 45, 45, 45, 45, 45, 45, 46, 46, 46, 46, 46, 46, 46, 46, 46, 46, 46, 46, 46, 46, 46, 46, 46, 46, 46, 46, 47, 47, 47, 47, 47, 47, 47, 47, 47, 48, 48, 48, 48, 48, 48, 48, 48, 48, 48, 48, 48, 48, 48, 48, 48, 49, 49, 49, 49, 49, 49, 49, 49, 49, 49, 49, 49, 49, 49, 49, 49, 100, 100, 100, 100, 100, 100, 100, 100, 100, 100, 100, 100, 100, 100, 100, 100, 100, 100, 100, 100, 100, 100, 100, 100, 100, 100, 100, 100, 100, 100, 100, 100, 100, 100, 100, 100, 100, 100, 100, 100, 100, 100, 100, 100, 100, 100, 100, 100, 100, 100, 100, 100, 100, 100, 100, 100, 100, 100, 100, 100, 100, 100, 100, 100, 100, 100, 100, 100, 100, 100, 100, 100, 100, 100, 100, 100, 100, 100, 100, 100, 100, 100, 100, 100, 100, 100, 100, 100, 100, 100, 100, 100, 100, 100, 100, 100, 100, 100, 100, 100, 100, 100, 100, 100, 100, 100, 100, 100, 100, 100, 100, 100, 100, 100, 100, 100, 100, 100, 100, 100, 100, 100, 100, 100, 100, 100, 100, 100, 100, 100, 100, 100, 100, 100, 100, 100, 100, 100, 100, 100, 100, 100, 100, 100, 100, 100, 100, 100, 100, 100, 100, 100, 100, 100, 100, 100, 100, 100, 100, 100, 100, 100, 100, 100, 100, 100, 100, 100, 100, 100, 100, 100, 100, 100, 100, 100, 100, 100, 100, 100, 100, 100, 100, 100, 100, 100, 100, 100, 100, 100, 100, 100, 100, 100, 100, 100, 100, 100, 100, 100, 100, 100, 100, 100, 100, 100, 100, 100, 100, 100, 100, 100, 100, 100, 100, 100, 100, 100, 100, 100, 100, 100, 100, 100, 100, 100, 100, 100, 100, 100, 100, 100, 100, 100, 100, 100, 100, 100, 100, 100, 100, 100, 100, 100, 100, 100, 100, 100, 100, 100, 100, 100, 100, 100, 100, 100, 100, 100, 100, 100, 100, 100, 100, 100, 100, 100, 100, 100, 100, 100, 100, 100, 100, 100, 100, 100, 100, 100, 100, 100, 100, 100, 100, 100, 100, 100, 100, 100, 100, 100, 100, 100, 100, 100, 100, 100, 100, 100, 100, 100, 100, 100, 100, 100, 100, 100, 100, 100, 100, 100, 100, 100, 100, 100, 100, 100, 100, 100, 100]\n",
            "Local cdn resources have problems on chrome/safari when used in jupyter-notebook. \n"
          ]
        },
        {
          "output_type": "execute_result",
          "data": {
            "text/plain": [
              "<IPython.lib.display.IFrame at 0x7f0bc164e1f0>"
            ],
            "text/html": [
              "\n",
              "        <iframe\n",
              "            width=\"1000\"\n",
              "            height=\"500\"\n",
              "            src=\"Interactive_Loops.html\"\n",
              "            frameborder=\"0\"\n",
              "            allowfullscreen\n",
              "        ></iframe>\n",
              "        "
            ]
          },
          "metadata": {},
          "execution_count": 42
        }
      ],
      "source": [
        "boxes = randomize_slips()[0]\n",
        "G, loop_df = create_graph(boxes)\n",
        "\n",
        "longest_loop = loop_df[\"loop\"].value_counts().max()\n",
        "npassed_random = brute_force(1000)\n",
        "npassed_loop = loop_strat(1000)\n",
        "\n",
        "print(f\"Longest Loop {longest_loop}\")\n",
        "print(f\"Random: {sorted(list(npassed_random.values()))}\")\n",
        "print(f\"Loop: {sorted(list(npassed_loop.values()))}\")\n",
        "\n",
        "net = Network(notebook=True, height=500, width=1000, directed=True)\n",
        "net.from_nx(G)\n",
        "net.show('Interactive_Loops.html')"
      ]
    },
    {
      "cell_type": "markdown",
      "id": "23032493",
      "metadata": {
        "papermill": {
          "duration": 0.037631,
          "end_time": "2022-07-28T18:58:27.930161",
          "exception": false,
          "start_time": "2022-07-28T18:58:27.892530",
          "status": "completed"
        },
        "tags": [],
        "id": "23032493"
      },
      "source": [
        "# Simluate the Longest Loop"
      ]
    },
    {
      "cell_type": "code",
      "execution_count": 37,
      "id": "903131fb",
      "metadata": {
        "execution": {
          "iopub.execute_input": "2022-07-28T18:58:28.007495Z",
          "iopub.status.busy": "2022-07-28T18:58:28.006745Z",
          "iopub.status.idle": "2022-07-28T18:59:12.185173Z",
          "shell.execute_reply": "2022-07-28T18:59:12.184303Z"
        },
        "papermill": {
          "duration": 44.220308,
          "end_time": "2022-07-28T18:59:12.187596",
          "exception": false,
          "start_time": "2022-07-28T18:58:27.967288",
          "status": "completed"
        },
        "tags": [],
        "id": "903131fb"
      },
      "outputs": [],
      "source": [
        "longest_loops = []\n",
        "for x in range(1000):\n",
        "    boxes = randomize_slips()[0]\n",
        "    G, loop_df = create_graph(boxes)\n",
        "    longest_loop = loop_df[\"loop\"].value_counts().max()\n",
        "    longest_loops.append(longest_loop)"
      ]
    },
    {
      "cell_type": "code",
      "execution_count": 38,
      "id": "396694c8",
      "metadata": {
        "execution": {
          "iopub.execute_input": "2022-07-28T18:59:12.320516Z",
          "iopub.status.busy": "2022-07-28T18:59:12.319389Z",
          "iopub.status.idle": "2022-07-28T18:59:13.125590Z",
          "shell.execute_reply": "2022-07-28T18:59:13.124731Z"
        },
        "papermill": {
          "duration": 0.87503,
          "end_time": "2022-07-28T18:59:13.127944",
          "exception": false,
          "start_time": "2022-07-28T18:59:12.252914",
          "status": "completed"
        },
        "tags": [],
        "id": "396694c8",
        "colab": {
          "base_uri": "https://localhost:8080/",
          "height": 369
        },
        "outputId": "7c254514-afb6-45cb-f46e-fecc396507bd"
      },
      "outputs": [
        {
          "output_type": "display_data",
          "data": {
            "text/plain": [
              "<Figure size 720x360 with 1 Axes>"
            ],
            "image/png": "[encoded data removed]"
          },
          "metadata": {}
        }
      ],
      "source": [
        "longest_loop_df = pd.DataFrame(index=range(1, 101))\n",
        "longest_loop_df[\"count\"] = longest_loop_df.index.map(\n",
        "    pd.Series(longest_loops).value_counts().to_dict()\n",
        ").fillna(0)\n",
        "\n",
        "fig, ax = plt.subplots(figsize=(10, 5))\n",
        "\n",
        "success = longest_loop_df.copy()\n",
        "success.loc[success.index > 50, \"count\"] = 0\n",
        "success.plot(kind=\"bar\", color=color_pal[3], width=1, edgecolor=\"black\", ax=ax)\n",
        "\n",
        "fail = longest_loop_df.copy()\n",
        "fail.loc[fail.index <= 50, \"count\"] = 0\n",
        "fail.plot(kind=\"bar\", color=color_pal[4], width=1, edgecolor=\"black\", ax=ax)\n",
        "\n",
        "plt.xlabel(\"Longest Loop\")\n",
        "fig.suptitle(\"Simulated Longest Loops\", fontsize=20)\n",
        "\n",
        "plt.gca().xaxis.set_major_locator(plt.MaxNLocator(10))\n",
        "plt.legend().remove()\n",
        "plt.show()"
      ]
    }
  ],
  "metadata": {
    "kernelspec": {
      "display_name": "Python 3",
      "language": "python",
      "name": "python3"
    },
    "language_info": {
      "codemirror_mode": {
        "name": "ipython",
        "version": 3
      },
      "file_extension": ".py",
      "mimetype": "text/x-python",
      "name": "python",
      "nbconvert_exporter": "python",
      "pygments_lexer": "ipython3",
      "version": "3.7.12"
    },
    "papermill": {
      "default_parameters": {},
      "duration": 115.789093,
      "end_time": "2022-07-28T18:59:14.020583",
      "environment_variables": {},
      "exception": null,
      "input_path": "__notebook__.ipynb",
      "output_path": "__notebook__.ipynb",
      "parameters": {},
      "start_time": "2022-07-28T18:57:18.231490",
      "version": "2.3.4"
    },
    "colab": {
      "provenance": []
    }
  },
  "nbformat": 4,
  "nbformat_minor": 5
}